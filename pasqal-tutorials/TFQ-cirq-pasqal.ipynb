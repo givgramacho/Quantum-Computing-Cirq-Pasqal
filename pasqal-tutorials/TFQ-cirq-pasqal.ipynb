{
 "cells": [
  {
   "cell_type": "markdown",
   "metadata": {
    "colab_type": "text",
    "id": "7mlhXBELak9p"
   },
   "source": [
    "Notebook reproducing results and code presented in the Tutorial \"MaxCut QAOA\", from Michael Streif, David Von Dollen, Michael Broughton @GoogleAI (see original work here : https://github.com/tensorflow/quantum/blob/research/qaoa/qaoa.ipynb). \n",
    "\n",
    "It shows an example of how to optimize variational parameters for QAOA using TFQ on a Pasqal Device. Please note that it uses the development version of Pasqal objects in Cirq, available at https://github.com/lhenriet/Cirq/tree/pasqal_new."
   ]
  },
  {
   "cell_type": "markdown",
   "metadata": {
    "colab_type": "text",
    "id": "MDDFanHIbDfS"
   },
   "source": [
    "First we must install the required libraries"
   ]
  },
  {
   "cell_type": "code",
   "execution_count": null,
   "metadata": {
    "colab": {},
    "colab_type": "code",
    "id": "Xc4ZYqG1aXJu"
   },
   "outputs": [],
   "source": [
    "#import tensorflow as tf\n",
    "import cirq\n",
    "#import tensorflow_quantum as tfq\n",
    "import sympy\n",
    "import numpy as np\n",
    "\n",
    "# visualization tools\n",
    "%matplotlib inline\n",
    "import matplotlib.pyplot as plt\n",
    "from cirq.contrib.svg import SVGCircuit\n",
    "#supress warning for matplotlib\n",
    "import warnings\n",
    "warnings.filterwarnings(\"ignore\")\n",
    "\n",
    "import networkx as nx\n",
    "import cirq\n",
    "from cirq.pasqal import PasqalNoiseModel"
   ]
  },
  {
   "cell_type": "markdown",
   "metadata": {
    "colab": {},
    "colab_type": "code",
    "id": "1J6wZ6zfb0Bi"
   },
   "source": [
    "We can use QAOA to solve Max-cut. First we need to generate a 3-regular graph with 8 nodes upon which to find the Max-cut using QAOA. Let's visualize that graph."
   ]
  },
  {
   "cell_type": "code",
   "execution_count": 4,
   "metadata": {
    "colab": {},
    "colab_type": "code",
    "id": "3GLOTJj6cFqC"
   },
   "outputs": [
    {
     "data": {
      "image/png": "[encoded data removed]",
      "text/plain": [
       "<Figure size 576x432 with 1 Axes>"
      ]
     },
     "metadata": {},
     "output_type": "display_data"
    }
   ],
   "source": [
    "# generate a 3-regular graph with 8 nodes\n",
    "maxcut_graph = nx.random_regular_graph(n=8, d=3)\n",
    "fig, ax = plt.subplots(1, 1, figsize=(8, 6));\n",
    "nx.draw_networkx(maxcut_graph, ax=ax)"
   ]
  },
  {
   "cell_type": "code",
   "execution_count": null,
   "metadata": {
    "colab": {},
    "colab_type": "code",
    "id": "XaS5DlNqcJg6"
   },
   "outputs": [],
   "source": [
    "from cirq.pasqal import PasqalVirtualDevice, PasqalDevice\n",
    "\n",
    "p_qubits = cirq.GridQubit.square(3, 3)\n",
    "p_device=PasqalVirtualDevice(control_radius=4, qubits=p_qubits)\n",
    "p_named_device=PasqalDevice(qubits=cirq.NamedQubit.range(9, prefix='q'))"
   ]
  },
  {
   "cell_type": "code",
   "execution_count": null,
   "metadata": {
    "colab": {},
    "colab_type": "code",
    "id": "g1ihNnOncvFI"
   },
   "outputs": [],
   "source": [
    "# create layer of hadamards to initialize the superposition state of all \n",
    "# computational states\n",
    "hadamard_circuit = cirq.Circuit(device=p_device)\n",
    "\n",
    "for node in maxcut_graph.nodes():\n",
    "    qubit = p_qubits[node]\n",
    "    hadamard_circuit.append(cirq.H.on(qubit))"
   ]
  },
  {
   "cell_type": "code",
   "execution_count": null,
   "metadata": {
    "colab": {},
    "colab_type": "code",
    "id": "j5tOK2UBc0rP"
   },
   "outputs": [],
   "source": [
    "# define the two parameters for one block of QAOA\n",
    "qaoa_parameters = sympy.symbols('a b')"
   ]
  },
  {
   "cell_type": "code",
   "execution_count": null,
   "metadata": {
    "colab": {},
    "colab_type": "code",
    "id": "JGgm8N3_c9lu"
   },
   "outputs": [],
   "source": [
    "# define the the mixing and the cost Hamiltonian, H_M and H_P\n",
    "mixing_ham = 0\n",
    "for node in maxcut_graph.nodes():\n",
    "    qubit = cirq_qubits[node]\n",
    "    mixing_ham += cirq.PauliString(cirq.X(qubit))\n",
    "\n",
    "cost_ham = maxcut_graph.number_of_edges()/2\n",
    "for edge in maxcut_graph.edges():\n",
    "    qubit1 = cirq_qubits[edge[0]]\n",
    "    qubit2 = cirq_qubits[edge[1]]\n",
    "    cost_ham += cirq.PauliString(1/2*(cirq.Z(qubit1)*cirq.Z(qubit2)))\n",
    "\n",
    "# generate the qaoa circuit\n",
    "qaoa_circuit = tfq.util.exponential(operators = [cost_ham, mixing_ham], \n",
    "                                    coefficients = qaoa_parameters)"
   ]
  },
  {
   "cell_type": "markdown",
   "metadata": {
    "colab_type": "text",
    "id": "lG52WM2wdPCW"
   },
   "source": [
    "Subsequently, we use these ingredients to build our model. We note here in this case that QAOA has no input data and labels, as we have mapped our graph to the QAOA circuit. To use the TFQ framework we specify the Hadamard circuit as input and convert it to a TFQ tensor. We may then construct a tf.keras model using our QAOA circuit and cost in a TFQ PQC layer, and use a single instance sample for training the variational parameters of the QAOA with the Hadamard gates as an input layer and a target value of $0$ for our loss function. This translates into the following code:"
   ]
  },
  {
   "cell_type": "code",
   "execution_count": null,
   "metadata": {
    "colab": {},
    "colab_type": "code",
    "id": "MEJ0q4qUdIQ-"
   },
   "outputs": [],
   "source": [
    "# define the model and training data\n",
    "model_circuit, model_readout = qaoa_circuit, cost_ham\n",
    "input_ = [hadamard_circuit]\n",
    "input_ = tfq.convert_to_tensor(input_)\n",
    "optimum = [0]"
   ]
  },
  {
   "cell_type": "code",
   "execution_count": null,
   "metadata": {
    "colab": {},
    "colab_type": "code",
    "id": "8dfq7vf4dYRd"
   },
   "outputs": [],
   "source": [
    "# Build the Keras model.\n",
    "optimum=np.array(optimum)\n",
    "model = tf.keras.Sequential()\n",
    "model.add(tf.keras.layers.Input(shape=(), dtype=tf.dtypes.string))\n",
    "model.add(tfq.layers.PQC(model_circuit, model_readout))\n",
    "tfq.layers.PQC"
   ]
  },
  {
   "cell_type": "markdown",
   "metadata": {
    "colab_type": "text",
    "id": "QtTxpOCRl1lE"
   },
   "source": [
    "To optimize the parameters of the ansatz state, we use a classical optimization routine. In general, it would be possible to use pre-calculated parameters  or to implement for QAOA tailored optimization routines. For this tutorial, we choose the Adam optimizer implemented in tensorflow. We also choose the mean absolute error as our loss function."
   ]
  },
  {
   "cell_type": "code",
   "execution_count": null,
   "metadata": {
    "colab": {},
    "colab_type": "code",
    "id": "GJlUgMFpdhhr"
   },
   "outputs": [],
   "source": [
    "model.compile(loss=tf.keras.losses.mean_absolute_error,\n",
    "              optimizer=tf.keras.optimizers.Adadelta())\n",
    "    \n",
    "history = model.fit(input_,optimum,epochs=1000,verbose=1)"
   ]
  },
  {
   "cell_type": "code",
   "execution_count": null,
   "metadata": {
    "colab": {},
    "colab_type": "code",
    "id": "Aa9e74pvxXH8"
   },
   "outputs": [],
   "source": [
    "# Read out the optimal paramters and sample from the final state 1000 times\n",
    "\n",
    "params = model.trainable_variables\n",
    "add = tfq.layers.AddCircuit()\n",
    "output_circuit = add(input_, append =qaoa_circuit )\n",
    "\n",
    "# Defining a sampler with PasqalNoise model\n",
    "p_noise_model = PasqalNoiseModel(device=p_named_device)\n",
    "my_sampler = cirq.DensityMatrixSimulator(noise=p_noise_model)\n",
    "\n",
    "sample_layer1 = tfq.layers.Sample(backend=my_sampler)\n",
    "output1 = sample_layer1(output_circuit,  symbol_names=qaoa_parameters, symbol_values = params, repetitions=1000)\n",
    "\n",
    "# Defining an ideal sampler\n",
    "sample_layer = tfq.layers.Sample()\n",
    "output = sample_layer(output_circuit,  symbol_names=qaoa_parameters, symbol_values = params, repetitions=1000)"
   ]
  },
  {
   "cell_type": "markdown",
   "metadata": {},
   "source": [
    "Next, we post-process the results of the variational procedure in the two cases. The first step is to translate the output in cut sets, for both the results. Then, we compare the results obtained to the ideal case."
   ]
  },
  {
   "cell_type": "code",
   "execution_count": null,
   "metadata": {
    "colab": {},
    "colab_type": "code",
    "id": "9gOoGimx6z2v"
   },
   "outputs": [],
   "source": [
    "# Translate output in cut sets\n",
    "cuts_qaoa = []\n",
    "\n",
    "# We do that for the first sampler, that uses Pasqal noise model\n",
    "for bit_string in output.values:\n",
    "  temp = []\n",
    "  for pos, bit in enumerate(bit_string):\n",
    "    if bit==1:\n",
    "      temp.append(pos)\n",
    "  cuts_qaoa.append(temp)\n",
    "\n",
    "# And also in the case of an ideal Quantum processor.\n",
    "cuts_qaoa1 = []\n",
    "for bit_string in output1.values:\n",
    "  temp1 = []\n",
    "  for pos, bit in enumerate(bit_string):\n",
    "    if bit==1:\n",
    "      temp1.append(pos)\n",
    "  cuts_qaoa1.append(temp1)\n",
    "\n",
    "# Generate a list with all possible subsets\n",
    "from itertools import combinations\n",
    "sub_lists = []\n",
    "for i in range(0, len(maxcut_graph.nodes())+1):\n",
    "  temp = [list(x) for x in combinations(maxcut_graph.nodes(), i)]\n",
    "  sub_lists.extend(temp)\n",
    "\n",
    "# Calculate the cut_size for all possible cuts\n",
    "cut_size = []\n",
    "for sub_list in sub_lists:\n",
    "  cut_size.append(nx.algorithms.cuts.cut_size(maxcut_graph, sub_list))\n",
    "\n",
    "# Calculate the cut_size for the cuts found with QAOA in the first case\n",
    "cut_size_qaoa = []\n",
    "for cut in cuts_qaoa:\n",
    "  cut_size_qaoa.append(nx.algorithms.cuts.cut_size(maxcut_graph, cut))\n",
    "\n",
    "# Calculate the cut_size for the cuts found with QAOA in the second case\n",
    "cut_size_qaoa1 = []\n",
    "for cut in cuts_qaoa1:\n",
    "  cut_size_qaoa1.append(nx.algorithms.cuts.cut_size(maxcut_graph, cut))"
   ]
  },
  {
   "cell_type": "markdown",
   "metadata": {},
   "source": [
    "Finally, we plot the two approximation ratio. Unsurprisingly, we see that the performances of the noisy simulation are not as good as in the ideal case."
   ]
  },
  {
   "cell_type": "code",
   "execution_count": null,
   "metadata": {
    "colab": {},
    "colab_type": "code",
    "id": "nW1uZWrK63PH"
   },
   "outputs": [],
   "source": [
    "# Calculate the approximation ratio\n",
    "print(np.mean(cut_size_qaoa)/np.max(cut_size))\n",
    "print(np.mean(cut_size_qaoa1)/np.max(cut_size))"
   ]
  }
 ],
 "metadata": {
  "celltoolbar": "Format de la Cellule Texte Brut",
  "colab": {
   "collapsed_sections": [],
   "name": "Copie de TFQ_Example_BasicQAOA.ipynb",
   "provenance": []
  },
  "kernelspec": {
   "display_name": "demo_cirq",
   "language": "python",
   "name": "demo_cirq"
  },
  "language_info": {
   "codemirror_mode": {
    "name": "ipython",
    "version": 3
   },
   "file_extension": ".py",
   "mimetype": "text/x-python",
   "name": "python",
   "nbconvert_exporter": "python",
   "pygments_lexer": "ipython3",
   "version": "3.7.6"
  }
 },
 "nbformat": 4,
 "nbformat_minor": 1
}
