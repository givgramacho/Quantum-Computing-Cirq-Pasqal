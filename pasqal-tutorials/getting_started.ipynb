{
 "cells": [
  {
   "cell_type": "markdown",
   "metadata": {},
   "source": [
    "# Run a quantum circuit in Cirq, with a Pasqal device as a backend\n",
    "<br>\n",
    "<br>\n",
    "<div>\n",
    "<img src=\"files/files/Cirq_pasqal.png\" width=\"700\"/>\n",
    "</div>\n",
    "<br>\n",
    "<br>\n",
    "In this notebook, we show how to program a quantum circuit for Pasqal using cirq, a python framework developped by Google. The first step is to import cirq, and Pasqal custom classes.\n"
   ]
  },
  {
   "cell_type": "code",
   "execution_count": 1,
   "metadata": {},
   "outputs": [],
   "source": [
    "import cirq\n",
    "from cirq import ops\n",
    "from cirq.pasqal import ThreeDGridQubit, PasqalDevice, PasqalNoiseModel, PasqalSampler"
   ]
  },
  {
   "cell_type": "markdown",
   "metadata": {},
   "source": [
    "## Create an array of qubits on a lattice\n",
    "<br>\n",
    "<br>\n",
    "The QPU of Pasqal is made of neutral atoms controlled by lasers. Individual atoms are trapped at well-defined positions in 1, 2 or even 3D, as shown on the following plot (Nature 561, 79 (2018)).\n",
    "<br>\n",
    "<br>\n",
    "\n",
    "\n",
    "<div>\n",
    "<img src=\"files/files/eiffel_tower.png\" width=\"500\"/>\n",
    "</div>\n",
    "<br>\n",
    "<br>\n",
    "We created a custom class in cirq, ThreeDGridQubit, that corresponds to a qubit placed on a 3D grid. Let us start by creating a register comprising $36=6\\times6$ qubits in 2D, regularly arranged on a square lattice. It corresponds to the following configuration (image taken from Nature 561, 79 (2018))"
   ]
  },
  {
   "cell_type": "markdown",
   "metadata": {},
   "source": [
    "<div>\n",
    "<img src=\"files/files/grid_atoms.png\" width=\"300\"/>\n",
    "</div>\n",
    "<br>\n",
    "<br>"
   ]
  },
  {
   "cell_type": "code",
   "execution_count": 2,
   "metadata": {},
   "outputs": [],
   "source": [
    "width=6\n",
    "height=6\n",
    "depth=1\n",
    "# Creating p_qubits, a list of ThreeDGridQubit.\n",
    "p_qubits=[ThreeDGridQubit(row, col, lay) \n",
    "          for row in range(width) \n",
    "          for col in range(height)\n",
    "          for lay in range(depth)]"
   ]
  },
  {
   "cell_type": "markdown",
   "metadata": {},
   "source": [
    "## Create a PasqalDevice\n",
    "<br>\n",
    "<br>\n",
    "Multi-qubit gates can be applied between qubits in the device, provided that the distance between them is smaller than the so-called Rydberg blocade radius (or control radius), that can be passed as a parameter of the device (in units of the lattice size). Here, we instantiate a PasqalDevice with 36 qubits and a control radius of $2.1$. \n",
    "<br>\n",
    "<br>\n",
    "Using the Circuit class of Cirq, one can then build a circuit that will be implemented with a PasqalDevice as a backend.\n",
    "<br>"
   ]
  },
  {
   "cell_type": "code",
   "execution_count": 3,
   "metadata": {},
   "outputs": [],
   "source": [
    "# Create a Pasqal device with a control radius of 3.1 (in units of the lattice spacing)\n",
    "p_device=PasqalDevice(control_radius=3.1, qubits=p_qubits)"
   ]
  },
  {
   "cell_type": "code",
   "execution_count": 4,
   "metadata": {},
   "outputs": [],
   "source": [
    "# Create a circuit, specifying the device\n",
    "p_circuit = cirq.Circuit(device=p_device)\n",
    "\n",
    "# Adding gates to that circuit\n",
    "p_circuit.append(cirq.CZ(p_qubits[0], p_qubits[1]))\n",
    "p_circuit.append(cirq.Z(p_qubits[0]))\n",
    "p_circuit.append(cirq.CX(p_qubits[0], p_qubits[2]))\n"
   ]
  },
  {
   "cell_type": "code",
   "execution_count": 5,
   "metadata": {},
   "outputs": [
    {
     "name": "stdout",
     "output_type": "stream",
     "text": [
      "(0, 0, 0): ───@───Z───@───\n",
      "              │       │\n",
      "(0, 1, 0): ───@───────┼───\n",
      "                      │\n",
      "(0, 2, 0): ───────────X───\n"
     ]
    }
   ],
   "source": [
    "print(p_circuit)"
   ]
  },
  {
   "cell_type": "markdown",
   "metadata": {},
   "source": [
    "When the distance between the two qubits involved in the gate is greater than the control radius, as shown for example in the following plot, cirq will throw an error.\n",
    "<br>\n",
    "<br>\n",
    "<img src=\"files/files/r_radius.001.png\" width=\"300\"/><br>"
   ]
  },
  {
   "cell_type": "code",
   "execution_count": 6,
   "metadata": {},
   "outputs": [
    {
     "ename": "ValueError",
     "evalue": "Qubits pasqal.ThreeDGridQubit(0, 0, 0), pasqal.ThreeDGridQubit(5, 5, 0) are too far away",
     "output_type": "error",
     "traceback": [
      "\u001b[0;31m---------------------------------------------------------------------------\u001b[0m",
      "\u001b[0;31mValueError\u001b[0m                                Traceback (most recent call last)",
      "\u001b[0;32m<ipython-input-6-c8c1bbaa9468>\u001b[0m in \u001b[0;36m<module>\u001b[0;34m\u001b[0m\n\u001b[1;32m      1\u001b[0m \u001b[0;31m# It is impossible to add a multi-qubit gate if the qubits involved are too far away\u001b[0m\u001b[0;34m\u001b[0m\u001b[0;34m\u001b[0m\u001b[0;34m\u001b[0m\u001b[0m\n\u001b[0;32m----> 2\u001b[0;31m \u001b[0mp_circuit\u001b[0m\u001b[0;34m.\u001b[0m\u001b[0mappend\u001b[0m\u001b[0;34m(\u001b[0m\u001b[0mcirq\u001b[0m\u001b[0;34m.\u001b[0m\u001b[0mCZ\u001b[0m\u001b[0;34m(\u001b[0m\u001b[0mp_qubits\u001b[0m\u001b[0;34m[\u001b[0m\u001b[0;36m0\u001b[0m\u001b[0;34m]\u001b[0m\u001b[0;34m,\u001b[0m \u001b[0mp_qubits\u001b[0m\u001b[0;34m[\u001b[0m\u001b[0;34m-\u001b[0m\u001b[0;36m1\u001b[0m\u001b[0;34m]\u001b[0m\u001b[0;34m)\u001b[0m\u001b[0;34m)\u001b[0m\u001b[0;34m\u001b[0m\u001b[0;34m\u001b[0m\u001b[0m\n\u001b[0m",
      "\u001b[0;32m~/Pasqal_code/Demo_cirq/demo_cirq/lib/python3.7/site-packages/cirq/circuits/circuit.py\u001b[0m in \u001b[0;36mappend\u001b[0;34m(self, moment_or_operation_tree, strategy)\u001b[0m\n\u001b[1;32m   1409\u001b[0m             \u001b[0mstrategy\u001b[0m\u001b[0;34m:\u001b[0m \u001b[0mHow\u001b[0m \u001b[0mto\u001b[0m \u001b[0mpick\u001b[0m\u001b[0;34m/\u001b[0m\u001b[0mcreate\u001b[0m \u001b[0mthe\u001b[0m \u001b[0mmoment\u001b[0m \u001b[0mto\u001b[0m \u001b[0mput\u001b[0m \u001b[0moperations\u001b[0m \u001b[0minto\u001b[0m\u001b[0;34m.\u001b[0m\u001b[0;34m\u001b[0m\u001b[0;34m\u001b[0m\u001b[0m\n\u001b[1;32m   1410\u001b[0m         \"\"\"\n\u001b[0;32m-> 1411\u001b[0;31m         \u001b[0mself\u001b[0m\u001b[0;34m.\u001b[0m\u001b[0minsert\u001b[0m\u001b[0;34m(\u001b[0m\u001b[0mlen\u001b[0m\u001b[0;34m(\u001b[0m\u001b[0mself\u001b[0m\u001b[0;34m.\u001b[0m\u001b[0m_moments\u001b[0m\u001b[0;34m)\u001b[0m\u001b[0;34m,\u001b[0m \u001b[0mmoment_or_operation_tree\u001b[0m\u001b[0;34m,\u001b[0m \u001b[0mstrategy\u001b[0m\u001b[0;34m)\u001b[0m\u001b[0;34m\u001b[0m\u001b[0;34m\u001b[0m\u001b[0m\n\u001b[0m\u001b[1;32m   1412\u001b[0m \u001b[0;34m\u001b[0m\u001b[0m\n\u001b[1;32m   1413\u001b[0m     def clear_operations_touching(self, qubits: Iterable['cirq.Qid'],\n",
      "\u001b[0;32m~/Pasqal_code/Demo_cirq/demo_cirq/lib/python3.7/site-packages/cirq/circuits/circuit.py\u001b[0m in \u001b[0;36minsert\u001b[0;34m(self, index, moment_or_operation_tree, strategy)\u001b[0m\n\u001b[1;32m   1101\u001b[0m             \u001b[0;32melse\u001b[0m\u001b[0;34m:\u001b[0m\u001b[0;34m\u001b[0m\u001b[0;34m\u001b[0m\u001b[0m\n\u001b[1;32m   1102\u001b[0m                 self._device.validate_operation(\n\u001b[0;32m-> 1103\u001b[0;31m                     cast(ops.Operation, moment_or_op))\n\u001b[0m\u001b[1;32m   1104\u001b[0m             \u001b[0mself\u001b[0m\u001b[0;34m.\u001b[0m\u001b[0m_validate_op_tree_qids\u001b[0m\u001b[0;34m(\u001b[0m\u001b[0mmoment_or_op\u001b[0m\u001b[0;34m)\u001b[0m\u001b[0;34m\u001b[0m\u001b[0;34m\u001b[0m\u001b[0m\n\u001b[1;32m   1105\u001b[0m \u001b[0;34m\u001b[0m\u001b[0m\n",
      "\u001b[0;32m~/Pasqal_code/Demo_cirq/demo_cirq/lib/python3.7/site-packages/cirq/pasqal/pasqal_device.py\u001b[0m in \u001b[0;36mvalidate_operation\u001b[0;34m(self, operation)\u001b[0m\n\u001b[1;32m    128\u001b[0m                         \u001b[0;32mif\u001b[0m \u001b[0mself\u001b[0m\u001b[0;34m.\u001b[0m\u001b[0mdistance\u001b[0m\u001b[0;34m(\u001b[0m\u001b[0mp\u001b[0m\u001b[0;34m,\u001b[0m \u001b[0mq\u001b[0m\u001b[0;34m)\u001b[0m \u001b[0;34m>\u001b[0m \u001b[0mself\u001b[0m\u001b[0;34m.\u001b[0m\u001b[0mcontrol_radius\u001b[0m\u001b[0;34m:\u001b[0m\u001b[0;34m\u001b[0m\u001b[0;34m\u001b[0m\u001b[0m\n\u001b[1;32m    129\u001b[0m                             raise ValueError(\"Qubits {!r}, {!r} are too \"\n\u001b[0;32m--> 130\u001b[0;31m                                              \"far away\".format(p, q))\n\u001b[0m\u001b[1;32m    131\u001b[0m \u001b[0;34m\u001b[0m\u001b[0m\n\u001b[1;32m    132\u001b[0m         \u001b[0;31m# Verify that a valid number of Z gates are applied in parallel\u001b[0m\u001b[0;34m\u001b[0m\u001b[0;34m\u001b[0m\u001b[0;34m\u001b[0m\u001b[0m\n",
      "\u001b[0;31mValueError\u001b[0m: Qubits pasqal.ThreeDGridQubit(0, 0, 0), pasqal.ThreeDGridQubit(5, 5, 0) are too far away"
     ]
    }
   ],
   "source": [
    "# It is impossible to add a multi-qubit gate if the qubits involved are too far away\n",
    "p_circuit.append(cirq.CZ(p_qubits[0], p_qubits[-1]))"
   ]
  },
  {
   "cell_type": "markdown",
   "metadata": {},
   "source": [
    "## Send a circuit to a remote Pasqal machine\n",
    "<br>\n",
    "<br>\n",
    "Using the Circuit class of Cirq, one can then build a circuit that will be implemented with a PasqalDevice as a backend.\n",
    "<br>\n",
    "<br>\n",
    "The real QPU is not plugged in yet as a backend. If you send us your circuit, we currently use a classical emulator as a backend to determine the result of your simulation. As emulating a quantum circuit with a large number of qubits is computationnaly intensive, here we choose to realize a circuit on a smaller register.\n",
    "<br>\n",
    "<br>\n",
    "More precisely, we will implement Shor’s quantum factoring algorithm, as presented in Nature 414, 883-887 (2001). Here is the corresponding quantum circuit (see also \"Quantum Algorithm Implementations for Beginners\", arxiv:1804.03719):\n",
    "<br>\n",
    "<br>\n",
    "\n",
    "<div>\n",
    "<img src=\"files/files/shor_circuit.png\" width=\"600\"/>\n",
    "<div>\n",
    "<br>\n",
    "<br>\n",
    "Here the cirq implementation of the circuit:\n"
   ]
  },
  {
   "cell_type": "code",
   "execution_count": 7,
   "metadata": {},
   "outputs": [],
   "source": [
    "import numpy as np\n",
    "\n",
    "qs = [ThreeDGridQubit(0, 0, 0), ThreeDGridQubit(0, 1, 0), ThreeDGridQubit(0, 2, 0),\\\n",
    "      ThreeDGridQubit(1, 0, 0), ThreeDGridQubit(1, 1, 0)]\n",
    "q_mes=[qs[2], qs[1], qs[0]]\n",
    "device = cirq.pasqal.PasqalDevice(control_radius=2.5, qubits=qs)\n",
    "pi_over_2_gate=cirq.CZPowGate(exponent=np.pi/2.)\n",
    "pi_over_4_gate=cirq.CZPowGate(exponent=np.pi/4.)\n",
    "\n",
    "shor_circuit = cirq.Circuit(device=device)\n",
    "\n",
    "shor_circuit.append(cirq.H(qs[0]))\n",
    "shor_circuit.append(cirq.H(qs[1]))\n",
    "shor_circuit.append(cirq.H(qs[2]))\n",
    "\n",
    "shor_circuit.append(cirq.CX(qs[2],qs[3]))\n",
    "shor_circuit.append(cirq.CX(qs[2],qs[4]))\n",
    "shor_circuit.append(cirq.H(qs[1]))\n",
    "shor_circuit.append(pi_over_2_gate(qs[1],qs[0]))\n",
    "shor_circuit.append(cirq.H(qs[0]))\n",
    "shor_circuit.append(pi_over_4_gate(qs[1],qs[2]))\n",
    "shor_circuit.append(pi_over_2_gate(qs[0],qs[2]))\n",
    "shor_circuit.append(cirq.measure(*q_mes, key='x'))"
   ]
  },
  {
   "cell_type": "markdown",
   "metadata": {},
   "source": [
    "Now, one has to create a sampler  that will send your circuit to the remote host address. One currently needs a token to have access to our servers. Please contact us to get one !"
   ]
  },
  {
   "cell_type": "code",
   "execution_count": 8,
   "metadata": {},
   "outputs": [],
   "source": [
    "sampler = cirq.pasqal.PasqalSampler(\n",
    "        remote_host='http://34.98.71.118/v0/pasqal',\n",
    "        access_token=PASQAL_API_ACCESS_TOKEN\n",
    "    )\n",
    "data_raw = sampler.run(program=shor_circuit, repetitions=200)"
   ]
  },
  {
   "cell_type": "markdown",
   "metadata": {},
   "source": [
    "Next, we can plot the results obtained."
   ]
  },
  {
   "cell_type": "code",
   "execution_count": 9,
   "metadata": {},
   "outputs": [
    {
     "data": {
      "image/png": "[encoded data removed]",
      "text/plain": [
       "<Figure size 432x288 with 1 Axes>"
      ]
     },
     "metadata": {
      "needs_background": "light"
     },
     "output_type": "display_data"
    }
   ],
   "source": [
    "import matplotlib.pyplot as plt\n",
    "\n",
    "\n",
    "data0 = data_raw.data.to_dict()\n",
    "vec=[j for j in range(8)]\n",
    "res=np.zeros(len(vec))\n",
    "for jj in range(200):\n",
    "    number = data0['x'][jj]\n",
    "    res[number] += 1\n",
    "res=res/200.\n",
    "\n",
    "fig = plt.figure()\n",
    "ax = fig.add_axes([0.16, 0.16, 0.78, 0.78])\n",
    "ax.plot(vec, res,'o')\n",
    "ax.set_xticks([0, 1, 2, 3, 4, 5, 6, 7])\n",
    "ax.set_xticklabels([r'$|000\\rangle$',r'$|001\\rangle$', r'$|010\\rangle$', r'$|011\\rangle$',\\\n",
    "                    r'$|100\\rangle$', r'$|101\\rangle$', r'$|110\\rangle$', r'$|111\\rangle$'])\n",
    "plt.xlabel(r'$j$', fontsize=20)\n",
    "plt.ylabel(r'$p$', fontsize=20)\n",
    "plt.show()"
   ]
  },
  {
   "cell_type": "markdown",
   "metadata": {},
   "source": [
    "The register is in a mixture of $|000\\rangle=|0\\rangle$ and $|100\\rangle=|4\\rangle$. Aside from the trivial result $|0\\rangle$, the large probability of measuring $|4\\rangle$ directly leads to the factorisation of $15=5\\times 3$ (more details on Shor's algorithm, period finding and their implementations in Nature 414, 883-887 (2001) and Phys. Rev. Lett. 85 (25), 5452 (2000))"
   ]
  },
  {
   "cell_type": "markdown",
   "metadata": {},
   "source": [
    "## Incorporate the effect of noise during a classical emulation of the circuit\n",
    "<br>\n",
    "<br>\n",
    "Current NISQ processors are imperfect and prone to errors. We incorporated in Cirq a typical noise model for Pasqal devices, that can be used when one emulates the behavior of the device with a classical computer.\n",
    "<br>"
   ]
  },
  {
   "cell_type": "code",
   "execution_count": 10,
   "metadata": {},
   "outputs": [
    {
     "data": {
      "image/png": "[encoded data removed]",
      "text/plain": [
       "<Figure size 432x288 with 1 Axes>"
      ]
     },
     "metadata": {
      "needs_background": "light"
     },
     "output_type": "display_data"
    }
   ],
   "source": [
    "qs = [ThreeDGridQubit(0, 0, 0), ThreeDGridQubit(0, 1, 0), ThreeDGridQubit(0, 2, 0),\\\n",
    "      ThreeDGridQubit(1, 0, 0), ThreeDGridQubit(1, 1, 0)]\n",
    "q_mes=[qs[2], qs[1], qs[0]]\n",
    "\n",
    "device = cirq.pasqal.PasqalDevice(control_radius=2.5, qubits=qs)\n",
    "pi_over_2_gate=cirq.CZPowGate(exponent=np.pi/2.)\n",
    "pi_over_4_gate=cirq.CZPowGate(exponent=np.pi/4.)\n",
    "\n",
    "shor_circuit = cirq.Circuit(device=device)\n",
    "shor_circuit.append(cirq.H(qs[0]))\n",
    "shor_circuit.append(cirq.H(qs[1]))\n",
    "shor_circuit.append(cirq.H(qs[2]))\n",
    "shor_circuit.append(cirq.CX(qs[2],qs[3]))\n",
    "shor_circuit.append(cirq.CX(qs[2],qs[4]))\n",
    "shor_circuit.append(cirq.H(qs[1]))\n",
    "shor_circuit.append(pi_over_2_gate(qs[1],qs[0]))\n",
    "shor_circuit.append(cirq.H(qs[0]))\n",
    "shor_circuit.append(pi_over_4_gate(qs[1],qs[2]))\n",
    "shor_circuit.append(pi_over_2_gate(qs[0],qs[2]))\n",
    "\n",
    "# Use the custom noise model of Pasqal devices\n",
    "noise_model = PasqalNoiseModel()\n",
    "shor_circuit = shor_circuit.with_noise(noise_model)\n",
    "\n",
    "shor_circuit.append(cirq.measure(*q_mes, key='x'))\n",
    "\n",
    "# Run a cirq simulator locally\n",
    "simulator = cirq.Simulator()\n",
    "data_raw = simulator.run(shor_circuit, repetitions=200)\n",
    "\n",
    "# Plot the results\n",
    "data0 = data_raw.data.to_dict()\n",
    "vec=[j for j in range(8)]\n",
    "res=np.zeros(len(vec))\n",
    "for jj in range(200):\n",
    "    number = data0['x'][jj]\n",
    "    res[number] += 1\n",
    "res=res/200.\n",
    "\n",
    "fig = plt.figure()\n",
    "ax = fig.add_axes([0.16, 0.16, 0.78, 0.78])\n",
    "ax.plot(vec, res,'o')\n",
    "ax.set_xticks([0, 1, 2, 3, 4, 5, 6, 7])\n",
    "ax.set_xticklabels([r'$|000\\rangle$', r'$|001\\rangle$', r'$|010\\rangle$', r'$|011\\rangle$',\\\n",
    "                    r'$|100\\rangle$', r'$|101\\rangle$', r'$|110\\rangle$', r'$|111\\rangle$'])\n",
    "plt.xlabel(r'$j$', fontsize=20)\n",
    "plt.ylabel(r'$p$', fontsize=20)\n",
    "plt.show()"
   ]
  },
  {
   "cell_type": "markdown",
   "metadata": {},
   "source": [
    "One still finds a rather large probability to measure $|4\\rangle$, but we note the possibility of wrong measurement outcomes, due to the presence of noise."
   ]
  }
 ],
 "metadata": {
  "kernelspec": {
   "display_name": "demo_cirq",
   "language": "python",
   "name": "demo_cirq"
  },
  "language_info": {
   "codemirror_mode": {
    "name": "ipython",
    "version": 3
   },
   "file_extension": ".py",
   "mimetype": "text/x-python",
   "name": "python",
   "nbconvert_exporter": "python",
   "pygments_lexer": "ipython3",
   "version": "3.7.6"
  }
 },
 "nbformat": 4,
 "nbformat_minor": 2
}
